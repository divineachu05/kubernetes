{
  "nbformat": 4,
  "nbformat_minor": 0,
  "metadata": {
    "colab": {
      "name": "Copy of Kubernetes(Docker) installed Master and slave on Ubuntu",
      "provenance": [],
      "authorship_tag": "ABX9TyOYbmWQRZ8ZK+Itd9Srja+f",
      "include_colab_link": true
    },
    "kernelspec": {
      "name": "python3",
      "display_name": "Python 3"
    },
    "language_info": {
      "name": "python"
    }
  },
  "cells": [
    {
      "cell_type": "markdown",
      "metadata": {
        "id": "view-in-github",
        "colab_type": "text"
      },
      "source": [
        "<a href=\"https://colab.research.google.com/github/divineachu05/kubernetes/blob/master/Kubernetes(Docker)_installed_Master_and_slave_on_Ubuntu.ipynb\" target=\"_parent\"><img src=\"https://colab.research.google.com/assets/colab-badge.svg\" alt=\"Open In Colab\"/></a>"
      ]
    },
    {
      "cell_type": "code",
      "metadata": {
        "id": "6VhjoCwObVI4"
      },
      "source": [
        "============================Kubernetes on ubuntu:20.04\n",
        "------------------------->\n",
        "On Master&Slave node(s)\n",
        "    sudo su\n",
        "# install Docker\n",
        "https://docs.docker.com/engine/install/ubuntu/\n",
        "or\n",
        "\n",
        "    sudo apt-get update\n",
        "    sudo apt-get install \\\n",
        "    apt-transport-https \\\n",
        "    ca-certificates \\\n",
        "    curl \\\n",
        "    gnupg \\\n",
        "    lsb-release \n",
        "\n",
        "    curl -fsSL https://download.docker.com/linux/ubuntu/gpg | sudo gpg --dearmor -o /usr/share/keyrings/docker-archive-keyring.gpg\n",
        "\n",
        "    echo \\\n",
        "   \"deb [arch=amd64 signed-by=/usr/share/keyrings/docker-archive-keyring.gpg] https://download.docker.com/linux/ubuntu \\\n",
        "   $(lsb_release -cs) stable\" | sudo tee /etc/apt/sources.list.d/docker.list > /dev/null\n",
        "\n",
        "    sudo apt-get update\n",
        "    sudo apt-get install docker-ce docker-ce-cli containerd.io\n",
        "    service docker restart\n",
        "\n",
        "# install Kubernetes\n",
        "    \n",
        "    curl -s https://packages.cloud.google.com/apt/doc/apt-key.gpg | apt-key add -\n",
        "    echo \"deb http://apt.kubernetes.io/ kubernetes-xenial main\" >/etc/apt/sources.list.d/kubernetes.list\n",
        "    apt-get update\n",
        "    apt install kubeadm=1.20.0-00 kubectl=1.20.0-00 kubelet=1.20.0-00 -y\n",
        "On Master:\n",
        "\n",
        "    kubeadm init --pod-network-cidr=192.168.0.0/16\n",
        "    exit \n",
        "    mkdir -p $HOME/.kube\n",
        "    sudo cp -i /etc/kubernetes/admin.conf $HOME/.kube/config\n",
        "    sudo chown $(id -u):$(id -g) $HOME/.kube/config\n",
        "    kubeadm token create --print-join-command\n",
        "On Node:\n",
        "    sudo su    \n",
        "    #Run join command\n",
        "On Master:\n",
        "    kubectl apply -f https://docs.projectcalico.org/manifests/calico.yaml\n",
        "\n",
        "    kubectl apply -f https://raw.githubusercontent.com/kubernetes/ingress-nginx/controller-v0.35.0/deploy/static/provider/baremetal/deploy.yaml\n",
        "    kubectl get svc --all-namespaces\n",
        "    sudo nano ingress.yaml\n",
        "===============================================================================================================\n",
        "apiVersion: networking.k8s.io/v1\n",
        "kind: Ingress\n",
        "metadata:\n",
        "  name: minimal-ingress\n",
        "  annotations:\n",
        "    nginx.ingress.kubernetes.io/rewrite-target: /\n",
        "spec:\n",
        "  rules:\n",
        "  - http:\n",
        "      paths:\n",
        "      - path: /apache\n",
        "        pathType: Prefix\n",
        "        backend:\n",
        "          service:\n",
        "            name: apache\n",
        "            port:\n",
        "              number: 80\n",
        "      - path: /custom\n",
        "        pathType: Prefix\n",
        "        backend:\n",
        "          service:\n",
        "            name: custom\n",
        "            port:\n",
        "              number: 80\n",
        "========================================================================================================\n",
        "FROM ubuntu\n",
        "RUN apt-get update\n",
        "RUN DEBIAN_FRONTEND=\"noninteractive\" apt-get -y install tzdata\n",
        "RUN apt-get -y install apache2\n",
        "ADD . /var/www/html\n",
        "ENTRYPOINT apachectl -D FOREGROUND\n",
        "========================================================================================================\n",
        "https://kubernetes.io/docs/concepts/services-networking/ingress/\n",
        "https://kubernetes.io/docs/concepts/workloads/controllers/deployment/"
      ],
      "execution_count": null,
      "outputs": []
    }
  ]
}